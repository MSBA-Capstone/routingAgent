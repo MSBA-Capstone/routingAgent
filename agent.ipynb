{
 "cells": [
  {
   "cell_type": "code",
   "execution_count": 3,
   "id": "fd8ff973",
   "metadata": {},
   "outputs": [
    {
     "name": "stdout",
     "output_type": "stream",
     "text": [
      "Web scraping is the process of extracting data from websites automatically. Python is widely used for web scraping because of its easy syntax and powerful libraries like BeautifulSoup, Scrapy, and Selenium. In this tutorial, you'll learn how to use these Python tools to scrape data from websites and understand why Python 3 is a popular choice for web scraping tasks.\n",
      "Dec 1, 2024 · In this tutorial, you'll walk through the main steps of the web scraping process. You'll learn how to write a script that uses Python's Requests library to scrape data from a website. …\n",
      "Learn how to scrape data from websites automatically with Python , from the basics to advanced techniques. This tutorial covers web scraping tools, methods, tips, and best practices with real-world examples.\n",
      "22 hours ago · Python is ideal for web scraping, from small scripts to large projects. Thunderbit’s AI tools simplify data extraction, handling subpages and dynamic sites.\n",
      "Web scraping with Python opens up a world of data collection possibilities, from market research and competitive analysis to academic research and business intelligence. Throughout this guide, we've covered everything from basic Beautiful Soup parsing to advanced techniques using Selenium for dynamic content and handling anti- scraping measures.\n"
     ]
    }
   ],
   "source": [
    "from ddgs import DDGS\n",
    "\n",
    "# Create a search client\n",
    "with DDGS() as ddgs:\n",
    "    results = ddgs.text(\"python web scraping\", max_results=5)\n",
    "\n",
    "for r in results:\n",
    "    print(r['body'])\n"
   ]
  },
  {
   "cell_type": "code",
   "execution_count": null,
   "id": "1a75a17a",
   "metadata": {},
   "outputs": [],
   "source": []
  }
 ],
 "metadata": {
  "kernelspec": {
   "display_name": "msba",
   "language": "python",
   "name": "python3"
  },
  "language_info": {
   "codemirror_mode": {
    "name": "ipython",
    "version": 3
   },
   "file_extension": ".py",
   "mimetype": "text/x-python",
   "name": "python",
   "nbconvert_exporter": "python",
   "pygments_lexer": "ipython3",
   "version": "3.11.14"
  }
 },
 "nbformat": 4,
 "nbformat_minor": 5
}
